{
 "cells": [
  {
   "cell_type": "markdown",
   "metadata": {},
   "source": [
    "### Listas"
   ]
  },
  {
   "cell_type": "markdown",
   "metadata": {},
   "source": [
    "1 Crie um programa que recebe uma lista de números e\n",
    "    - retorne o maior elemento\n",
    "    - retorne a soma dos elementos\n",
    "    - retorne o número de ocorrências do primeiro elemento da lista\n",
    "    - retorne a média dos elementos\n",
    "    - retorne o valor mais próximo da média dos elementos\n",
    "    - retorne a soma dos elementos com valor negativo\n",
    "    - retorne a quantidade de vizinhos iguais"
   ]
  },
  {
   "cell_type": "code",
   "execution_count": 48,
   "metadata": {},
   "outputs": [
    {
     "name": "stdout",
     "output_type": "stream",
     "text": [
      "Insira o 1 elemento: -15\n",
      "Insira o 2 elemento: -15\n",
      "Insira o 3 elemento: 50\n",
      "Maior elemento:  50\n",
      "Soma dos elementos:  20\n",
      "Número de ocorrencias de -15: 2\n",
      "Média dos elementos:  6.666666666666667\n",
      "Número mais próximo da média:  -15\n",
      "Soma dos elementos negativos:  -30\n",
      "Vizinhos iguais:  1\n"
     ]
    }
   ],
   "source": [
    "list = [\n",
    "    int(input(\"Insira o 1 elemento: \")),\n",
    "    int(input(\"Insira o 2 elemento: \")),\n",
    "    int(input(\"Insira o 3 elemento: \"))\n",
    "]\n",
    "\n",
    "maior = list[0]\n",
    "soma = 0\n",
    "somaNeg = 0\n",
    "numOcorrenciasPrimeiro = 0\n",
    "vizinhos = 0\n",
    "anterior = list[0] + 1\n",
    "\n",
    "for num in list:\n",
    "    # maior\n",
    "    if num > maior:\n",
    "        maior = num\n",
    "    # soma\n",
    "    soma += num\n",
    "    # num de ocorrencias do primeiro\n",
    "    if num == list[0]:\n",
    "        numOcorrenciasPrimeiro += 1    \n",
    "    # soma de negativos\n",
    "    if num < 0:\n",
    "        somaNeg += num\n",
    "    # vizinhos iguais\n",
    "    if num == anterior:\n",
    "        vizinhos += 1\n",
    "    anterior = num\n",
    "# media\n",
    "media = soma / len(list)\n",
    "\n",
    "maisProximo = list[0]\n",
    "diferenca = media - list[0]\n",
    "menorDiferenca = diferenca\n",
    "for num in list:\n",
    "    #valor mais próximo da média\n",
    "    diferenca = media - num\n",
    "    if diferenca < 0:\n",
    "        diferenca = diferenca * -1\n",
    "    if diferenca < menorDiferenca:\n",
    "        menorDiferenca = diferenca\n",
    "        maisProximo = num\n",
    "        \n",
    "print(\"Maior elemento: \", maior)\n",
    "print(\"Soma dos elementos: \", soma)\n",
    "print(\"Número de ocorrencias de %i: %i\" % (list[0], numOcorrenciasPrimeiro))\n",
    "print(\"Média dos elementos: \", media)\n",
    "print(\"Número mais próximo da média: \", maisProximo)\n",
    "print(\"Soma dos elementos negativos: \", somaNeg)\n",
    "print(\"Vizinhos iguais: \", vizinhos)"
   ]
  },
  {
   "cell_type": "markdown",
   "metadata": {},
   "source": [
    "2 Faça um programa que receba duas listas e retorne True se são iguais ou False caso\n",
    "contrario.\n",
    "Duas listas são iguais se possuem os mesmos valores e na mesma ordem."
   ]
  },
  {
   "cell_type": "code",
   "execution_count": 64,
   "metadata": {},
   "outputs": [
    {
     "name": "stdout",
     "output_type": "stream",
     "text": [
      "As listas são iguais:  True\n",
      "As listas são iguais:  False\n",
      "As listas são iguais:  False\n"
     ]
    }
   ],
   "source": [
    "def saoIguais(list1, list2):\n",
    "    if len(list1) == len(list2):\n",
    "        for i in range(0, len(list1)):\n",
    "            if list1[i] != list2[i]:\n",
    "                return False\n",
    "        return True\n",
    "    return False\n",
    "\n",
    "#listas iguais\n",
    "list1, list2 = [15, 30, 60], [15, 30, 60]\n",
    "print(\"As listas são iguais: \", saoIguais(list1, list2))\n",
    "# listas diferentes em ordem\n",
    "list1, list2 = [15, 1, 30], [15, 30, 1]\n",
    "print(\"As listas são iguais: \", saoIguais(list1, list2))\n",
    "# listas diferentes em tamanho\n",
    "list1, list2 = [2, 6], [10, 8, 7]\n",
    "print(\"As listas são iguais: \", saoIguais(list1, list2))"
   ]
  },
  {
   "cell_type": "markdown",
   "metadata": {},
   "source": [
    "3 Faça um programa que receba duas listas e retorne True se têm os mesmos\n",
    "elementos ou False caso contrário\n",
    "Duas listas possuem os mesmos elementos quando são compostas pelos mesmos\n",
    "valores, mas não obrigatoriamente na mesma ordem."
   ]
  },
  {
   "cell_type": "code",
   "execution_count": 69,
   "metadata": {},
   "outputs": [
    {
     "name": "stdout",
     "output_type": "stream",
     "text": [
      "As listas possuem mesmo conteúdo:  True\n",
      "As listas possuem mesmo conteúdo:  True\n",
      "As listas possuem mesmo conteúdo:  False\n"
     ]
    }
   ],
   "source": [
    "def possuemMesmoConteudo(list1, list2):\n",
    "    list1.sort()\n",
    "    list2.sort()\n",
    "    if len(list1) == len(list2):\n",
    "        for i in range(0, len(list1)):\n",
    "            if list1[i] != list2[i]:\n",
    "                return False\n",
    "        return True\n",
    "    return False\n",
    "\n",
    "#listas iguais\n",
    "list1, list2 = [15, 30, 60], [15, 30, 60]\n",
    "print(\"As listas possuem mesmo conteúdo: \", possuemMesmoConteudo(list1, list2))\n",
    "# listas diferentes em ordem\n",
    "list1, list2 = [15, 1, 30], [15, 30, 1]\n",
    "print(\"As listas possuem mesmo conteúdo: \", possuemMesmoConteudo(list1, list2))\n",
    "# listas diferentes em tamanho\n",
    "list1, list2 = [2, 6], [10, 8, 7]\n",
    "print(\"As listas possuem mesmo conteúdo: \", possuemMesmoConteudo(list1, list2))"
   ]
  },
  {
   "cell_type": "markdown",
   "metadata": {},
   "source": [
    "4 Faça um programa que percorre uma lista com o seguinte formato: [['Brasil',\n",
    "'Italia', [10, 9]], ['Brasil', 'Espanha', [5, 7]], ['Italia', 'Espanha', [7,8]]]. Essa lista indica o\n",
    "número de faltas que cada time fez em cada jogo. Na lista acima, no jogo entre Brasil\n",
    "e Itália, o Brasil fez 10 faltas e a Itália fez 9.\n",
    "O programa deve imprimir na tela:\n",
    "    - o total de faltas do campeonato\n",
    "    - o time que fez mais faltas\n",
    "    - o time que fez menos faltas"
   ]
  },
  {
   "cell_type": "code",
   "execution_count": 76,
   "metadata": {},
   "outputs": [
    {
     "name": "stdout",
     "output_type": "stream",
     "text": [
      "Total de faltas do campeonato:  46\n"
     ]
    }
   ],
   "source": [
    "lista = [['Brasil', 'Italia', [10, 9]], ['Brasil', 'Espanha', [5, 7]], ['Italia', 'Espanha', [7,8]]]\n",
    "times = []\n",
    "        \n",
    "totalFaltas = 0\n",
    "for jogo in lista:\n",
    "    totalFaltas += jogo[2][0] + jogo[2][1]\n",
    "    \n",
    "print(\"Total de faltas do campeonato: \", totalFaltas)    "
   ]
  },
  {
   "cell_type": "markdown",
   "metadata": {},
   "source": [
    "### Dicionários"
   ]
  },
  {
   "cell_type": "markdown",
   "metadata": {},
   "source": [
    "5 Escreva um programa que conta a quantidade de vogais em uma string e armazena\n",
    "tal quantidade em um dicionário, onde a chave é a vogal considerada."
   ]
  },
  {
   "cell_type": "code",
   "execution_count": 88,
   "metadata": {},
   "outputs": [
    {
     "name": "stdout",
     "output_type": "stream",
     "text": [
      "Quantidade de A's: 3\n",
      "Quantidade de E's: 2\n",
      "Quantidade de I's: 2\n",
      "Quantidade de O's: 1\n",
      "Quantidade de U's: 1\n"
     ]
    }
   ],
   "source": [
    "string = \"Republica da Coreia\"\n",
    "dic = {\n",
    "    \"a\": 0,\n",
    "    \"e\": 0,\n",
    "    \"i\": 0,\n",
    "    \"o\": 0,\n",
    "    \"u\": 0,\n",
    "}\n",
    "\n",
    "for letra in string:\n",
    "    if letra.lower() == \"a\":\n",
    "        dic[\"a\"] += 1\n",
    "    if letra.lower() == \"e\":\n",
    "        dic[\"e\"] += 1\n",
    "    if letra.lower() == \"i\":\n",
    "        dic[\"i\"] += 1\n",
    "    if letra.lower() == \"o\":\n",
    "        dic[\"o\"] += 1\n",
    "    if letra.lower() == \"u\":\n",
    "        dic[\"u\"] += 1\n",
    "        \n",
    "print(\"Quantidade de A's:\", dic[\"a\"])\n",
    "print(\"Quantidade de E's:\", dic[\"e\"])\n",
    "print(\"Quantidade de I's:\", dic[\"i\"])\n",
    "print(\"Quantidade de O's:\", dic[\"o\"])\n",
    "print(\"Quantidade de U's:\", dic[\"u\"])"
   ]
  },
  {
   "cell_type": "markdown",
   "metadata": {},
   "source": [
    "6 Escreva um programa que lê̂ duas notas de vários alunos e armazena tais notas em\n",
    "um dicionário, onde a chave é o nome do aluno. A entrada de dados deve terminar\n",
    "quando for lida uma string vazia como nome. Escreva uma função que retorna a\n",
    "média do aluno, dado seu nome."
   ]
  },
  {
   "cell_type": "code",
   "execution_count": 94,
   "metadata": {},
   "outputs": [
    {
     "name": "stdout",
     "output_type": "stream",
     "text": [
      "Insira o nome do aluno: William\n",
      "Insira a primeira nota: 8\n",
      "Insira a segunda nota: 9\n",
      "Insira o nome do aluno: Joao\n",
      "Insira a primeira nota: 7\n",
      "Insira a segunda nota: 6\n",
      "Insira o nome do aluno: \n",
      "Insira o nome do aluno o qual deseja ver a média: William\n"
     ]
    },
    {
     "data": {
      "text/plain": [
       "8.5"
      ]
     },
     "execution_count": 94,
     "metadata": {},
     "output_type": "execute_result"
    }
   ],
   "source": [
    "dic = {}\n",
    "i = 0\n",
    "nome = input(\"Insira o nome do aluno: \")\n",
    "while nome != \"\":\n",
    "    dic[nome] = [\n",
    "        float(input(\"Insira a primeira nota: \")),\n",
    "        float(input(\"Insira a segunda nota: \"))\n",
    "    ]\n",
    "    nome = input(\"Insira o nome do aluno: \")\n",
    "\n",
    "def media(nome):\n",
    "    return (dic[nome][0] + dic[nome][1]) / 2\n",
    "\n",
    "media(input(\"Insira o nome do aluno o qual deseja ver a média: \"))"
   ]
  },
  {
   "cell_type": "markdown",
   "metadata": {},
   "source": [
    "7 Uma pista de Kart permite 10 voltas para cada um de 6 corredores. Escreva um\n",
    "programa que leia todos os tempos em segundos e os guarde em um dicionário,\n",
    "onde a chave é o nome do corredor. Ao final diga de quem foi a melhor volta da\n",
    "prova e em que volta; e ainda a classificação final em ordem (1o o campeão). O\n",
    "campeão é o que tem a menor média de tempos."
   ]
  },
  {
   "cell_type": "code",
   "execution_count": 108,
   "metadata": {},
   "outputs": [
    {
     "name": "stdout",
     "output_type": "stream",
     "text": [
      "1° lugar: Batista - 59.9 segs.\n",
      "2° lugar: Jailson - 60.6 segs.\n",
      "3° lugar: Joao - 60.8 segs.\n",
      "4° lugar: Marcos - 61.2 segs.\n",
      "5° lugar: Roger - 61.6 segs.\n",
      "6° lugar: Rodolfo - 63.8 segs.\n"
     ]
    }
   ],
   "source": [
    "import operator\n",
    "\n",
    "dic = {\n",
    "    \"Jailson\": [57, 58, 60, 56, 64, 70, 59, 58, 69, 55],\n",
    "    \"Joao\": [56, 60, 72, 50, 67, 58, 61, 63, 62, 59],\n",
    "    \"Batista\": [79, 52, 58, 48, 58, 59, 61, 65, 59, 60],\n",
    "    \"Rodolfo\": [56, 50, 55, 70, 85, 73, 68, 65, 56, 60],\n",
    "    \"Marcos\": [69, 55, 67, 50, 52, 53, 70, 75, 65, 56],\n",
    "    \"Roger\": [56, 63, 63, 65, 70, 59, 55, 60, 63, 62]\n",
    "}\n",
    "\n",
    "volta = 0\n",
    "medias = dic\n",
    "nome = \"\"\n",
    "melhorVolta = dic[\"Jailson\"][0]\n",
    "for chave in dic:\n",
    "    soma = 0\n",
    "    for num in dic[chave]:\n",
    "        if num < melhorVolta:\n",
    "            melhorVolta = num\n",
    "            nome = chave\n",
    "        soma += num\n",
    "    medias[chave] = soma / 10\n",
    "\n",
    "#itemgeter 1 é a pos do valor do medias.items()\n",
    "sort = sorted(medias.items(), key=operator.itemgetter(1))\n",
    "for i in range(0, 6):\n",
    "    print(\"%s° lugar: %s - %s segs.\" % (i + 1, sort[i][0], sort[i][1]))"
   ]
  },
  {
   "cell_type": "markdown",
   "metadata": {},
   "source": [
    "8 Escreva um programa para armazenar uma agenda de telefones em um dicionário.\n",
    "Cada pessoa pode ter um ou mais telefones e a chave do dicionário é o nome da\n",
    "pessoa. Seu programa deve ter as seguintes funções:\n",
    "- incluirNovoNome – essa função acrescenta um novo nome na agenda, com um ou\n",
    "mais telefones. Ela deve receber como argumentos o nome e os telefones.\n",
    "- incluirTelefone – essa função acrescenta um telefone em um nome existente na\n",
    "agenda. Caso o nome não exista na agenda, você̂ deve perguntar se a pessoa deseja\n",
    "inclui-lo. Caso a resposta seja afirmativa, use a função anterior para incluir o novo\n",
    "nome.\n",
    "- excluirTelefone – essa função exclui um telefone de uma pessoa que já está na\n",
    "agenda. Se a pessoa tiver apenas um telefone, ela deve ser excluída da agenda.\n",
    "- excluirNome – essa função exclui uma pessoa da agenda.\n",
    "- consultarTelefone – essa função retorna os telefones de uma pessoa na agenda."
   ]
  },
  {
   "cell_type": "code",
   "execution_count": 12,
   "metadata": {},
   "outputs": [
    {
     "name": "stdout",
     "output_type": "stream",
     "text": [
      "\n",
      "Escolha uma opção: \n",
      "1 - Incluir Novo Nome\n",
      "2 - Incluir Telefone\n",
      "3 - Excluir Telefone\n",
      "4 - Consultar Agenda\n",
      "0 - Encerrar Programa\n",
      "1\n",
      "Insira o nome da pessoa: Joao\n",
      "Insira um telefone da pessoa: 25\n",
      "Inserir outro telefone (ou digite 0 para parar): 63\n",
      "Inserir outro telefone (ou digite 0 para parar): 0\n",
      "\n",
      "Escolha uma opção: \n",
      "1 - Incluir Novo Nome\n",
      "2 - Incluir Telefone\n",
      "3 - Excluir Telefone\n",
      "4 - Consultar Agenda\n",
      "0 - Encerrar Programa\n",
      "4\n",
      "Insira o nome da pessoa: Joao\n",
      "[25, 63]\n",
      "\n",
      "Escolha uma opção: \n",
      "1 - Incluir Novo Nome\n",
      "2 - Incluir Telefone\n",
      "3 - Excluir Telefone\n",
      "4 - Consultar Agenda\n",
      "0 - Encerrar Programa\n",
      "2\n",
      "Insira o nome da pessoa: Joao\n",
      "Insira um novo telefone da pessoa: 47\n",
      "\n",
      "Escolha uma opção: \n",
      "1 - Incluir Novo Nome\n",
      "2 - Incluir Telefone\n",
      "3 - Excluir Telefone\n",
      "4 - Consultar Agenda\n",
      "0 - Encerrar Programa\n",
      "4\n",
      "Insira o nome da pessoa: Joao\n",
      "[25, 63, 47]\n",
      "\n",
      "Escolha uma opção: \n",
      "1 - Incluir Novo Nome\n",
      "2 - Incluir Telefone\n",
      "3 - Excluir Telefone\n",
      "4 - Consultar Agenda\n",
      "0 - Encerrar Programa\n",
      "3\n",
      "Insira o nome da pessoa: Joao\n",
      "Insira o telefone da pessoa a qual deseja excluir: 25\n",
      "\n",
      "Escolha uma opção: \n",
      "1 - Incluir Novo Nome\n",
      "2 - Incluir Telefone\n",
      "3 - Excluir Telefone\n",
      "4 - Consultar Agenda\n",
      "0 - Encerrar Programa\n",
      "4\n",
      "Insira o nome da pessoa: Joao\n",
      "[63, 47]\n",
      "\n",
      "Escolha uma opção: \n",
      "1 - Incluir Novo Nome\n",
      "2 - Incluir Telefone\n",
      "3 - Excluir Telefone\n",
      "4 - Consultar Agenda\n",
      "0 - Encerrar Programa\n",
      "0\n"
     ]
    }
   ],
   "source": [
    "agenda = {}\n",
    "\n",
    "def incluirNovoNome(nome, telefones):\n",
    "    global agenda\n",
    "    agenda[nome] = telefones\n",
    "    \n",
    "def incluirTelefone(nome, telefone):\n",
    "    global agenda\n",
    "    if nome in agenda.keys():\n",
    "        agenda[nome].append(telefone)\n",
    "    else:\n",
    "        if input(\"Essa pessoa não existe, incluir ela na agenda (s/n)? \") == \"s\":\n",
    "            telefones = [telefone]\n",
    "            incluirNovoNome(nome, telefones)\n",
    "            \n",
    "def excluirTelefone(nome, telefone):\n",
    "    global agenda\n",
    "    if nome in agenda.keys():\n",
    "        if len(agenda[nome]) == 1:\n",
    "            del agenda[nome]\n",
    "        else:\n",
    "            for num in range(0, len(agenda[nome]) - 1):\n",
    "                if telefone == agenda[nome][num]:\n",
    "                    agenda[nome].pop(num)\n",
    "        \n",
    "def consultarTelefone(nome):\n",
    "    global agenda\n",
    "    if nome in agenda.keys():\n",
    "        print(agenda[nome])\n",
    "    \n",
    "opcao = -1\n",
    "while opcao != 0:\n",
    "    opcao = int(input(\"\\nEscolha uma opção: \\n1 - Incluir Novo Nome\\n2 - Incluir Telefone\\n3 - Excluir Telefone\\n4 - Consultar Agenda\\n0 - Encerrar Programa\\n\"))\n",
    "    \n",
    "    # INSERIR NOVO NOME\n",
    "    if opcao == 1:\n",
    "        nome = input(\"Insira o nome da pessoa: \")\n",
    "        telefones = []\n",
    "        telefones.append(int(input(\"Insira um telefone da pessoa: \")))\n",
    "        telefone = -1\n",
    "        while telefone != 0:\n",
    "            telefone = int(input(\"Inserir outro telefone (ou digite 0 para parar): \"))\n",
    "            if telefone != 0:\n",
    "                telefones.append(telefone)\n",
    "        incluirNovoNome(nome, telefones)\n",
    "    # INCLUIR TELEFONE\n",
    "    elif opcao == 2:\n",
    "        nome = input(\"Insira o nome da pessoa: \")\n",
    "        telefone = int(input(\"Insira um novo telefone da pessoa: \"))\n",
    "        incluirTelefone(nome, telefone)\n",
    "    # EXCLUIR TELEFONE\n",
    "    elif opcao == 3:\n",
    "        nome = input(\"Insira o nome da pessoa: \")\n",
    "        telefone = int(input(\"Insira o telefone da pessoa a qual deseja excluir: \"))\n",
    "        excluirTelefone(nome, telefone)\n",
    "    elif opcao == 4:\n",
    "        consultarTelefone(input(\"Insira o nome da pessoa: \"))\n",
    "        "
   ]
  },
  {
   "cell_type": "markdown",
   "metadata": {},
   "source": [
    "### Arquivos\n",
    " "
   ]
  },
  {
   "cell_type": "markdown",
   "metadata": {},
   "source": [
    "9 Faça um programa que leia um arquivo texto contendo uma lista de endereços IP e\n",
    "gere um outro arquivo, contendo um relatório dos endereços IP válidos e inválidos.\n",
    "O arquivo de entrada possui o seguinte formato:\n",
    "\n",
    "    200.135.80.9\n",
    "    192.168.1.1\n",
    "    8.35.67.74\n",
    "    257.32.4.5\n",
    "    85.345.1.2\n",
    "    1.2.3.4\n",
    "    9.8.234.5\n",
    "    192.168.0.256\n",
    "\n",
    "O arquivo de saída possui o seguinte formato:\n",
    "\n",
    "    [Endereços válidos:]\n",
    "    200.135.80.9\n",
    "    192.168.1.1\n",
    "    8.35.67.74\n",
    "    1.2.3.4\n",
    "    [Endereços inválidos:]\n",
    "    257.32.4.5\n",
    "    85.345.1.2\n",
    "    9.8.234.5\n",
    "    192.168.0.256"
   ]
  },
  {
   "cell_type": "code",
   "execution_count": 31,
   "metadata": {},
   "outputs": [],
   "source": [
    "import socket\n",
    "\n",
    "ipsValidos = []\n",
    "ipsInvalidos = []\n",
    "\n",
    "ips = open(\"ips.txt\")\n",
    "for ip in ips:\n",
    "    try:\n",
    "        socket.inet_aton(ip)\n",
    "        # Validos\n",
    "        ipsValidos.append(ip)\n",
    "    except socket.error:\n",
    "        # Invalidos\n",
    "        ipsInvalidos.append(ip)\n",
    "        \n",
    "ips.close()\n",
    "\n",
    "saida = open(\"ipsvalidados.txt\", \"w+\")\n",
    "\n",
    "saida.write(\"[Endereços válidos:]\\n\")\n",
    "for ip in ipsValidos:\n",
    "    saida.write(ip)\n",
    "    \n",
    "saida.write(\"[Endereços inválidos:]\\n\")\n",
    "for ip in ipsInvalidos:\n",
    "    saida.write(ip)\n",
    "    \n",
    "saida.close()"
   ]
  },
  {
   "cell_type": "markdown",
   "metadata": {},
   "source": [
    "10 A ACME Inc., uma empresa de 500 funcionários, está tendo problemas de espaço\n",
    "em disco no seu servidor de arquivos. Para tentar resolver este problema, o\n",
    "Administrador de Rede precisa saber qual o espaço ocupado pelos usuários, e\n",
    "identificar os usuários com maior espaço ocupado. Através de um programa, baixado\n",
    "da Internet, ele conseguiu gerar o seguinte arquivo, chamado \"usuarios.txt\":\n",
    "\n",
    "    alexandre 456123789\n",
    "    anderson 1245698456\n",
    "    antonio 123456456\n",
    "    carlos 91257581\n",
    "    cesar 987458\n",
    "    rosemary 789456125\n",
    "    \n",
    "Neste arquivo, o nome do usuário possui 15 caracteres. A partir deste arquivo, você\n",
    "deve criar um programa que gere um relatório, chamado \"relatório.txt\", no seguinte\n",
    "formato:\n",
    "\n",
    "    ACME Inc. Uso do espaço em disco pelos usuários\n",
    "    --------------------------------------------------------------\n",
    "    ----------\n",
    "    Nr. Usuário Espaço utilizado % do uso\n",
    "    1 alexandre 434,99 MB 16,85%\n",
    "    2 anderson 1187,99 MB 46,02%\n",
    "    3 antonio 117,73 MB 4,56%\n",
    "    4 carlos 87,03 MB 3,37%\n",
    "    5 cesar 0,94 MB 0,04%\n",
    "    6 rosemary 752,88 MB 29,16%\n",
    "    Espaço total ocupado: 2581,57 MB\n",
    "    Espaço médio ocupado: 430,26 MB\n",
    "    \n",
    "O arquivo de entrada deve ser lido uma única vez, e os dados armazenados em\n",
    "memória, caso sejam necessários, de forma a agilizar a execução do programa. A\n",
    "conversão da espaço ocupado em disco, de bytes para megabytes deverá ser feita\n",
    "através de uma função separada, que será chamada pelo programa principal. O\n",
    "cálculo do percentual de uso também deverá ser feito através de uma função, que\n",
    "será chamada pelo programa principal."
   ]
  },
  {
   "cell_type": "code",
   "execution_count": 53,
   "metadata": {},
   "outputs": [],
   "source": [
    "def paraMb(tamanho):\n",
    "    return float(tamanho / (1024*1024))\n",
    "\n",
    "def usoMemoria(tamanho, total):\n",
    "    return float(tamanho / total) * 100\n",
    "\n",
    "dic = {}\n",
    "total = 0\n",
    "usuarios = open(\"usuarios.txt\")\n",
    "for usuario in usuarios:\n",
    "    nome, memoria = usuario.split(\" \")\n",
    "    dic[nome] = int(memoria)\n",
    "    total += int(memoria)\n",
    "usuarios.close()\n",
    "media = total / len(dic.keys())\n",
    "\n",
    "relatorio = open(\"relatório.txt\", \"w+\")\n",
    "relatorio.write(\"ACME Inc.               Uso do espaço em disco pelos usuários.\\n\")\n",
    "relatorio.write(\"--------------------------------------------------------------\\n\")\n",
    "relatorio.write(\"Nr.\\tUsuário \\tEspaço utilizado\\t% do uso\\n\")\n",
    "\n",
    "nr = 1\n",
    "for usuario in dic:\n",
    "    relatorio.write(str(nr) + \"\\t\" + usuario + \"\\t\" + \"{0:.2f}\".format(paraMb(dic[usuario])) + \" MB\\t\\t\" + \"{0:.2f}\".format(usoMemoria(dic[usuario], total)) + \"%\\n\")\n",
    "    nr += 1\n",
    "    \n",
    "\n",
    "relatorio.write(\"Espaço total ocupado: \" + \"{0:.2f}\".format(paraMb(total)) + \"\\n\")\n",
    "relatorio.write(\"Espaço médio ocupado: \" + \"{0:.2f}\".format(paraMb(media)))\n",
    "\n",
    "relatorio.close()"
   ]
  },
  {
   "cell_type": "code",
   "execution_count": null,
   "metadata": {},
   "outputs": [],
   "source": []
  }
 ],
 "metadata": {
  "kernelspec": {
   "display_name": "Python 3",
   "language": "python",
   "name": "python3"
  },
  "language_info": {
   "codemirror_mode": {
    "name": "ipython",
    "version": 3
   },
   "file_extension": ".py",
   "mimetype": "text/x-python",
   "name": "python",
   "nbconvert_exporter": "python",
   "pygments_lexer": "ipython3",
   "version": "3.6.4"
  }
 },
 "nbformat": 4,
 "nbformat_minor": 2
}
